{
 "cells": [
  {
   "cell_type": "code",
   "execution_count": 1,
   "id": "9b44b52a-7e2b-4d05-87a9-9e2970b995b1",
   "metadata": {},
   "outputs": [],
   "source": [
    "import csv"
   ]
  },
  {
   "cell_type": "code",
   "execution_count": 2,
   "id": "9153d137-3e82-4312-87dd-49dd4c4e62de",
   "metadata": {},
   "outputs": [],
   "source": [
    "head=(['sid','sname','city','contect'])"
   ]
  },
  {
   "cell_type": "code",
   "execution_count": 10,
   "id": "521175cb-110b-4015-9249-21b365f9b943",
   "metadata": {},
   "outputs": [],
   "source": [
    "row=[['1','om','baben','9912356787'],\n",
    "    ['2','sai','surat','9913667604'],\n",
    "    ['3','ram','valod','1234567859'],\n",
    "    ['4','mit','vakaner','1239876589'],\n",
    "    ['5','shiv','bagumra','9898500721'],\n",
    "    ['6','parth','surat','8469667606'],\n",
    "    ['7','zeel','bardoli','1239870654'],\n",
    "    ['8','radha','surat','9923098767'],\n",
    "    ['9','yug','kathor','1230989878'],\n",
    "    ['10','milan','vakaner','1238904567']]\n"
   ]
  },
  {
   "cell_type": "code",
   "execution_count": 11,
   "id": "45394872-c7f6-44c9-a257-d33a04d1a8ad",
   "metadata": {},
   "outputs": [],
   "source": [
    "with open(\"student.csv\",\"w\", newline=\"\") as file:\n",
    "    writer=csv.writer(file)\n",
    "    writer.writerow(head)\n",
    "    writer.writerows(row)"
   ]
  },
  {
   "cell_type": "code",
   "execution_count": 12,
   "id": "6e6d7139-1368-4cde-806a-8e6fc9237138",
   "metadata": {},
   "outputs": [],
   "source": [
    "from csv import reader"
   ]
  },
  {
   "cell_type": "code",
   "execution_count": 15,
   "id": "9d243aaa-ffdd-4f2c-94c6-fb9840a112f8",
   "metadata": {},
   "outputs": [
    {
     "name": "stdout",
     "output_type": "stream",
     "text": [
      "['sid', 'sname', 'city', 'contect']\n",
      "['1', 'om', 'baben', '9912356787']\n",
      "['2', 'sai', 'surat', '9913667604']\n",
      "['3', 'ram', 'valod', '1234567859']\n",
      "['4', 'mit', 'vakaner', '1239876589']\n",
      "['5', 'shiv', 'bagumra', '9898500721']\n",
      "['6', 'parth', 'surat', '8469667606']\n",
      "['7', 'zeel', 'bardoli', '1239870654']\n",
      "['8', 'radha', 'surat', '9923098767']\n",
      "['9', 'yug', 'kathor', '1230989878']\n",
      "['10', 'milan', 'vakaner', '1238904567']\n"
     ]
    }
   ],
   "source": [
    "with open(\"student.csv\",\"r\", newline=\"\") as file:\n",
    "    read=reader(file)\n",
    "    for rows in read:\n",
    "        print(rows)"
   ]
  },
  {
   "cell_type": "code",
   "execution_count": null,
   "id": "aedaff11-d01e-485e-80f2-03259ac3d0fb",
   "metadata": {},
   "outputs": [],
   "source": []
  }
 ],
 "metadata": {
  "kernelspec": {
   "display_name": "Python 3 (ipykernel)",
   "language": "python",
   "name": "python3"
  },
  "language_info": {
   "codemirror_mode": {
    "name": "ipython",
    "version": 3
   },
   "file_extension": ".py",
   "mimetype": "text/x-python",
   "name": "python",
   "nbconvert_exporter": "python",
   "pygments_lexer": "ipython3",
   "version": "3.9.6"
  }
 },
 "nbformat": 4,
 "nbformat_minor": 5
}
